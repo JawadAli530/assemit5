{
 "cells": [
  {
   "cell_type": "markdown",
   "id": "f55b1a40-ef25-4715-86be-37fca4edce2e",
   "metadata": {},
   "source": [
    "In a transportation system, we have two classes:\n",
    " ElectricVehicle: A class that has a method charge() to charge the vehicle.\n",
    " GasolineVehicle: A class that has a method fuel_up() to refuel the vehicle.\n",
    "Create a class HybridCar that inherits from both ElectricVehicle and GasolineVehicle. The HybridCar\n",
    "class should have a method drive() that prints a message showing the car is being driven. Instantiate\n",
    "an object of class HybridCar and demonstrate the usage of charge(), fuel_up(), and drive().\n",
    "Expected Output:\n",
    " Charging the electric vehicle.\n",
    " Filling up the gasoline tank.\n",
    " Driving the hybrid car."
   ]
  },
  {
   "cell_type": "code",
   "execution_count": 2,
   "id": "6859f60c-c493-4e23-b714-7663b8043ef4",
   "metadata": {},
   "outputs": [
    {
     "name": "stdout",
     "output_type": "stream",
     "text": [
      "Charging the electric vehicle.\n",
      "Filling up the gasoline tank.\n",
      "Driving the hybrid car.\n"
     ]
    }
   ],
   "source": [
    "class ElectricVehicle:\n",
    "    def charge(self):\n",
    "        print(\"Charging the electric vehicle.\")\n",
    "class GasolineVehicle:\n",
    "    def fuel_up(self):\n",
    "        print(\"Filling up the gasoline tank.\")\n",
    "class HybridCar(ElectricVehicle, GasolineVehicle):\n",
    "    def drive(self):\n",
    "        print(\"Driving the hybrid car.\")\n",
    "hybrid_car = HybridCar()\n",
    "hybrid_car.charge()  \n",
    "hybrid_car.fuel_up()  \n",
    "hybrid_car.drive()    \n"
   ]
  },
  {
   "cell_type": "markdown",
   "id": "b5af1e0e-b876-45d1-ae3f-dac61f53ef95",
   "metadata": {},
   "source": [
    "Create a class Animal with a method make_sound(), which prints &quot;Animal makes a sound&quot;. Then,\n",
    "create two subclasses:\n",
    " Lion: Override the make_sound() method to print &quot;Roar&quot;.\n",
    " Cat: Override the make_sound() method to print &quot;Meow&quot;.\n",
    "Demonstrate polymorphism by calling make_sound() on instances of Lion and Cat."
   ]
  },
  {
   "cell_type": "code",
   "execution_count": 4,
   "id": "8fa19068-39f6-44d5-9a89-8d2f7d1c3503",
   "metadata": {},
   "outputs": [
    {
     "name": "stdout",
     "output_type": "stream",
     "text": [
      "Roar\n",
      "Meow\n"
     ]
    }
   ],
   "source": [
    "class Animal:\n",
    "    def make_sound(self):\n",
    "        print(\"Animal makes a sound\")\n",
    "class Lion(Animal):\n",
    "    def make_sound(self):\n",
    "        print(\"Roar\")\n",
    "class Cat(Animal):\n",
    "    def make_sound(self):\n",
    "        print(\"Meow\")\n",
    "lion = Lion()\n",
    "cat = Cat()\n",
    "lion.make_sound()  \n",
    "cat.make_sound()   "
   ]
  },
  {
   "cell_type": "markdown",
   "id": "2a22ec8f-1a96-4acd-a55a-dff08b9caab9",
   "metadata": {},
   "source": [
    "Create an abstract class SmartHomeDevice with two abstract methods:\n",
    " turn_on() (to turn the device on)\n",
    " turn_off() (to turn the device off)\n",
    "Then, create a Light class that inherits from SmartHomeDevice. Implement the methods turn_on()\n",
    "and turn_off() for a light device. The turn_on() method should print &quot;Light is ON&quot;, and the turn_off()\n",
    "method should print &quot;Light is OFF&quot;.\n",
    "Write a Python program to control the light device in a smart home.\n",
    "Expected Output:\n",
    " Turning on the light...\n",
    " Light is ON\n",
    " Turning off the light...\n",
    " Light is OFF"
   ]
  },
  {
   "cell_type": "code",
   "execution_count": 5,
   "id": "5edfb820-4184-470e-8088-98d52e304878",
   "metadata": {},
   "outputs": [
    {
     "name": "stdout",
     "output_type": "stream",
     "text": [
      "Turning on the light...\n",
      "Light is ON\n",
      "Turning off the light...\n",
      "Light is OFF\n"
     ]
    }
   ],
   "source": [
    "from abc import ABC, abstractmethod\n",
    "class SmartHomeDevice(ABC):\n",
    "    @abstractmethod\n",
    "    def turn_on(self):\n",
    "        pass\n",
    "    @abstractmethod\n",
    "    def turn_off(self):\n",
    "        pass\n",
    "class Light(SmartHomeDevice):\n",
    "    def turn_on(self):\n",
    "        print(\"Light is ON\")\n",
    "    def turn_off(self):\n",
    "        print(\"Light is OFF\")\n",
    "light = Light()\n",
    "print(\"Turning on the light...\")\n",
    "light.turn_on()\n",
    "print(\"Turning off the light...\")\n",
    "light.turn_off()"
   ]
  },
  {
   "cell_type": "markdown",
   "id": "11a7b460-dfdf-4e89-a4f6-e054cfb11d4a",
   "metadata": {},
   "source": [
    "Create a class Greeting with a method greet() that can handle different numbers of arguments.\n",
    " If no argument is passed, it should print &quot;Hello!&quot;.\n",
    " If one argument (a name) is passed, it should print &quot;Hello, !&quot;.\n",
    " If two arguments (a name and a greeting) are passed, it should print the greeting with the\n",
    "name (e.g., &quot;Good morning, !&quot;).\n",
    "Simulate method overloading using default arguments or variable-length arguments, and\n",
    "demonstrate the polymorphic behavior by calling greet() with different numbers of arguments.\n",
    "Expected Output:\n",
    " Hello!\n",
    " Hello, John!\n",
    " Good morning, John!"
   ]
  },
  {
   "cell_type": "code",
   "execution_count": 6,
   "id": "1e9e7125-58aa-4d1a-963a-e83353a25c20",
   "metadata": {},
   "outputs": [
    {
     "name": "stdout",
     "output_type": "stream",
     "text": [
      "Hello!\n",
      "Hello, John!\n",
      "Good morning, John!\n"
     ]
    }
   ],
   "source": [
    "class Greeting:\n",
    "    def greet(self, name=None, greeting=\"Hello\"):\n",
    "        if name is None:\n",
    "            print(\"Hello!\")\n",
    "        else:\n",
    "            print(f\"{greeting}, {name}!\")\n",
    "greeting = Greeting()\n",
    "greeting.greet()                   \n",
    "greeting.greet(\"John\")             \n",
    "greeting.greet(\"John\", \"Good morning\")  \n"
   ]
  },
  {
   "cell_type": "markdown",
   "id": "6df5b751-9315-43fe-8a8f-baa343c429c3",
   "metadata": {},
   "source": [
    "Create a class CarRental to manage the rental of cars.\n",
    " The class should have private attributes for the car&#39;s name, price per day, and the number of\n",
    "rental days.\n",
    " Create a method to calculate the total rental cost and a method to set the rental days.\n",
    " Use getter and setter methods for modifying and accessing the car&#39;s information.\n",
    "Demonstrate encapsulation by creating an object of CarRental and calculating the total rental cost.\n",
    "Expected Output:\n",
    " Car Name: Toyota Camry\n",
    " Price Per Day: $50\n",
    " Rental Days: 5\n",
    " Total Rental Cost: $250"
   ]
  },
  {
   "cell_type": "code",
   "execution_count": 7,
   "id": "55ae952e-1a91-4916-9150-5e7a6f7977a9",
   "metadata": {},
   "outputs": [
    {
     "name": "stdout",
     "output_type": "stream",
     "text": [
      "Car Name: Toyota Camry\n",
      "Price Per Day: $50\n",
      "Rental Days: 5\n",
      "Total Rental Cost: $250\n"
     ]
    }
   ],
   "source": [
    "class CarRental:\n",
    "    def __init__(self, name, price_per_day):\n",
    "        self.__name = name              \n",
    "        self.__price_per_day = price_per_day  \n",
    "        self.__rental_days = 0           \n",
    "    def get_name(self):\n",
    "        return self.__name\n",
    "    def set_name(self, name):\n",
    "        self.__name = name\n",
    "    def get_price_per_day(self):\n",
    "        return self.__price_per_day\n",
    "    def set_price_per_day(self, price):\n",
    "        self.__price_per_day = price\n",
    "    def get_rental_days(self):\n",
    "        return self.__rental_days\n",
    "    def set_rental_days(self, days):\n",
    "        self.__rental_days = days\n",
    "    def calculate_total_cost(self):\n",
    "        return self.__price_per_day * self.__rental_days\n",
    "car_rental = CarRental(\"Toyota Camry\", 50)\n",
    "car_rental.set_rental_days(5)\n",
    "print(\"Car Name:\", car_rental.get_name())\n",
    "print(\"Price Per Day: $\" + str(car_rental.get_price_per_day()))\n",
    "print(\"Rental Days:\", car_rental.get_rental_days())\n",
    "print(\"Total Rental Cost: $\" + str(car_rental.calculate_total_cost()))\n"
   ]
  },
  {
   "cell_type": "code",
   "execution_count": null,
   "id": "47290076-c71a-4a99-b427-ae8261e113ac",
   "metadata": {},
   "outputs": [],
   "source": []
  }
 ],
 "metadata": {
  "kernelspec": {
   "display_name": "Python 3 (ipykernel)",
   "language": "python",
   "name": "python3"
  },
  "language_info": {
   "codemirror_mode": {
    "name": "ipython",
    "version": 3
   },
   "file_extension": ".py",
   "mimetype": "text/x-python",
   "name": "python",
   "nbconvert_exporter": "python",
   "pygments_lexer": "ipython3",
   "version": "3.12.7"
  }
 },
 "nbformat": 4,
 "nbformat_minor": 5
}
